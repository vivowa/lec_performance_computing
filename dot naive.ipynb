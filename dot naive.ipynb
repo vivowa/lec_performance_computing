{
 "cells": [
  {
   "cell_type": "code",
   "execution_count": 1,
   "metadata": {},
   "outputs": [],
   "source": [
    "import numpy as np\n",
    "import dis as dis"
   ]
  },
  {
   "cell_type": "code",
   "execution_count": 2,
   "metadata": {},
   "outputs": [],
   "source": [
    "def dot_naive(a,b):\n",
    "    r = 0.0\n",
    "    for n in range(a.size):\n",
    "        r += a[n]*b[n]\n",
    "        \n",
    "        return r\n",
    "    "
   ]
  },
  {
   "cell_type": "code",
   "execution_count": 3,
   "metadata": {},
   "outputs": [
    {
     "name": "stdout",
     "output_type": "stream",
     "text": [
      "726 ns ± 13.1 ns per loop (mean ± std. dev. of 7 runs, 1000000 loops each)\n",
      "5.68 ms ± 57.6 µs per loop (mean ± std. dev. of 7 runs, 100 loops each)\n"
     ]
    }
   ],
   "source": [
    "N = 10000000\n",
    "a = np.random.normal(size=(N,)).astype(np.float64)\n",
    "b = np.random.normal(size=(N,)).astype(np.float64)\n",
    "\n",
    "%timeit dot_naive(a,b)\n",
    "\n",
    "%timeit np.dot(a,b)"
   ]
  },
  {
   "cell_type": "code",
   "execution_count": 4,
   "metadata": {},
   "outputs": [
    {
     "name": "stdout",
     "output_type": "stream",
     "text": [
      "  2           0 LOAD_CONST               1 (0.0)\n",
      "              2 STORE_FAST               2 (r)\n",
      "\n",
      "  3           4 LOAD_GLOBAL              0 (range)\n",
      "              6 LOAD_FAST                0 (a)\n",
      "              8 LOAD_ATTR                1 (size)\n",
      "             10 CALL_FUNCTION            1\n",
      "             12 GET_ITER\n",
      "             14 FOR_ITER                30 (to 46)\n",
      "             16 STORE_FAST               3 (n)\n",
      "\n",
      "  4          18 LOAD_FAST                2 (r)\n",
      "             20 LOAD_FAST                0 (a)\n",
      "             22 LOAD_FAST                3 (n)\n",
      "             24 BINARY_SUBSCR\n",
      "             26 LOAD_FAST                1 (b)\n",
      "             28 LOAD_FAST                3 (n)\n",
      "             30 BINARY_SUBSCR\n",
      "             32 BINARY_MULTIPLY\n",
      "             34 INPLACE_ADD\n",
      "             36 STORE_FAST               2 (r)\n",
      "\n",
      "  6          38 LOAD_FAST                2 (r)\n",
      "             40 ROT_TWO\n",
      "             42 POP_TOP\n",
      "             44 RETURN_VALUE\n",
      "        >>   46 LOAD_CONST               0 (None)\n",
      "             48 RETURN_VALUE\n"
     ]
    }
   ],
   "source": [
    "dis.dis(dot_naive)"
   ]
  },
  {
   "cell_type": "code",
   "execution_count": 5,
   "metadata": {},
   "outputs": [
    {
     "name": "stdout",
     "output_type": "stream",
     "text": [
      "  4           0 LOAD_GLOBAL              0 (dispatcher)\n",
      "              2 LOAD_FAST                0 (args)\n",
      "              4 LOAD_FAST                1 (kwargs)\n",
      "              6 CALL_FUNCTION_EX         1\n",
      "              8 STORE_FAST               2 (relevant_args)\n",
      "\n",
      "  5          10 LOAD_GLOBAL              1 (implement_array_function)\n",
      "\n",
      "  6          12 LOAD_GLOBAL              2 (implementation)\n",
      "             14 LOAD_GLOBAL              3 (dot)\n",
      "             16 LOAD_FAST                2 (relevant_args)\n",
      "             18 LOAD_FAST                0 (args)\n",
      "             20 LOAD_FAST                1 (kwargs)\n",
      "\n",
      "  5          22 CALL_FUNCTION            5\n",
      "             24 RETURN_VALUE\n"
     ]
    }
   ],
   "source": [
    "dis.dis(np.dot)"
   ]
  }
 ],
 "metadata": {
  "kernelspec": {
   "display_name": "Python 3",
   "language": "python",
   "name": "python3"
  },
  "language_info": {
   "codemirror_mode": {
    "name": "ipython",
    "version": 3
   },
   "file_extension": ".py",
   "mimetype": "text/x-python",
   "name": "python",
   "nbconvert_exporter": "python",
   "pygments_lexer": "ipython3",
   "version": "3.8.3"
  }
 },
 "nbformat": 4,
 "nbformat_minor": 4
}
